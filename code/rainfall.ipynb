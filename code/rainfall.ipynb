{
 "cells": [
  {
   "cell_type": "markdown",
   "metadata": {},
   "source": [
    "# The Rainfall Problem\n",
    "\n",
    "You have been asked to write a program that computes the average rainfall.  The user will input the data one day at a time, and the program will compute a new average after each data point is input.  \n",
    "\n",
    " * If the user inputs the number 9999, the program stops, and does not calculate a new average.\n",
    " * If the user inputs a negative number, the program ignores the input -- it does not include the number in the calculation, instead just moving on to ask for the next day.\n",
    " * If the user makes an invalid input (something that is not a number), the program will crash.\n",
    " * If the input is a valid amount of rainfall (a positive number or zero), the program computes the new average and prints it\n",
    " \n",
    "A solution to this problem is in the cell below:\n",
    "\n",
    "# 1. run the cell below by hitting \"Shift-Enter\" in that cell and test to see that the program works as desired."
   ]
  },
  {
   "cell_type": "code",
   "execution_count": null,
   "metadata": {},
   "outputs": [],
   "source": [
    "total_rain = 0\n",
    "day_count = 0\n",
    "\n",
    "new_rain = float(input('How much rain today?\\t'))\n",
    "    \n",
    "while True:\n",
    "    if new_rain == 9999:\n",
    "        break\n",
    "    elif new_rain >= 0:\n",
    "        total_rain = total_rain + new_rain\n",
    "        day_count = day_count + 1\n",
    "    new_rain = float(input(\"Average:\\t\" + str(total_rain/day_count) + '\\tHow much rain today?\\t'))\n",
    "        "
   ]
  },
  {
   "cell_type": "markdown",
   "metadata": {},
   "source": [
    "# 2. Retype and analyze the code\n",
    "\n",
    "In the cell below, retype the program one line at a time, as we discuss it in class.  You will put comments at the end of each line, using a hashtag \"#\" so you can document what the program does.\n",
    "\n",
    "For example, line 1 will look like this:\n",
    "\n",
    "```python \n",
    "total_rain = 0  # this line initializes a variable to hold the total rainfall recorded so far\n",
    "```"
   ]
  },
  {
   "cell_type": "code",
   "execution_count": null,
   "metadata": {},
   "outputs": [],
   "source": [
    "total_rain = 0 # this line initializes a variable to hold the total rainfall recorded so far\n",
    "# put the rest of the program below here, as we work in class\n"
   ]
  },
  {
   "cell_type": "markdown",
   "metadata": {},
   "source": [
    "# 3. Take some notes on this program here\n",
    "\n",
    "This kind of program is often called an **accumulator**.  That means that some value is accumulated,  or gathered together, by repeatedly combining new values into the running total.\n",
    "\n",
    "In this example, there are two accumulator **variables**, the total_rain and the day_count.  The accumulator is **initialized** at the top of the program, and the **loop** is used to update the stored values with each new rainfall amount.  \n",
    "\n",
    "**while** is one way to start a **loop**, a block of code that will be used repeatedly.  Usually a while statement has a condition that is tested to determine when the loop will stop.  This one is setup to run indefinitely -- potentially forever, unless something inside the loop causes it stop.  The thing that will stop this particular loop is if the user enters the number '9999' to indicate they are doneentering data, in which case the loop will **break**.  Another way this particular loop might stop is if the user inputs invalid data -- something that is not a number, in which case the program will encounter an error.\n",
    "\n",
    "The **indentation** you see inside the while loop is important -- this is how one marks that a section of code in python is part of a block that goes together.  In some other languages this is accomplished with parentheses or brackets, but python uses indentation because it makes the code easier to read.  Everything inside that block that is indented 4 spaces will be executed together every time the loop repeats.\n",
    "\n",
    "The **input** function is used here to get the user to input data to be accumulated.  If the data were instead stored in a data file, this part of the program might be altered to read the data out of that file.\n",
    "\n",
    "The lines with **if** and **elif** are **conditionals**, specifying what to do **if** some condition is met, and if it isn't, then to check whether the \"else-if\" or **elif** condition is met.  If neither of them is True, then this program just keeps going to the next data point.  This is how it ignores negative values.\n",
    "\n",
    "**Write any further comments or questions you have about this program here**"
   ]
  },
  {
   "cell_type": "markdown",
   "metadata": {},
   "source": [
    "# 4. Parsons problem\n",
    "\n",
    "In the cell below this one, you will see all the lines of the program above scrambled up.  All of the lines below are correct, and there are no missing lines, but they are in the wrong order.  Your job is to move them around until they work, possibly indenting them just like the program above.\n",
    "\n",
    "The purpose of this task is to give you a chance to practice constructing valid code in python without the extra burden of figuring out how to say it.  The commands are valid already, you just need to think about the logic of what order they need to occur in.\n",
    "\n",
    "Sometime in the next week you will be asked to do this again, but without being able to see the complete solution.  Sometime after that, you will be asked to write a program that accomplishes the same task without being given the code lines.\n",
    "\n",
    "Test the program by running the cell and entering data to check that it computes the running average correctly.  You should only see error messages if you input invalid data.  If you see other error messages, that is a sign you got the order wrong or accidentally changed one of the lines -- use the error messages to debug what went wrong."
   ]
  },
  {
   "cell_type": "code",
   "execution_count": null,
   "metadata": {},
   "outputs": [],
   "source": [
    "break\n",
    "while True:\n",
    "elif new_rain >= 0:\n",
    "day_count = 0\n",
    "total_rain = total_rain + new_rain\n",
    "day_count = day_count + 1\n",
    "print(\"Average:\\t\", total_rain/day_count)\n",
    "new_rain = float(input('How much rain today?\\t'))\n",
    "new_rain = float(input(\"Average:\\t\" + str(total_rain/day_count) + '\\tHow much rain today?\\t'))\n",
    "if new_rain == 9999:\n",
    "total_rain = 0"
   ]
  },
  {
   "cell_type": "markdown",
   "metadata": {},
   "source": [
    "# 5. Submit your work using github\n",
    "\n",
    "I will help you complete this part in class"
   ]
  }
 ],
 "metadata": {
  "kernelspec": {
   "display_name": "Python 3",
   "language": "python",
   "name": "python3"
  },
  "language_info": {
   "codemirror_mode": {
    "name": "ipython",
    "version": 3
   },
   "file_extension": ".py",
   "mimetype": "text/x-python",
   "name": "python",
   "nbconvert_exporter": "python",
   "pygments_lexer": "ipython3",
   "version": "3.6.5"
  }
 },
 "nbformat": 4,
 "nbformat_minor": 2
}
